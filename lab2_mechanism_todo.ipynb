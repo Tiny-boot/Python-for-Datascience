{
  "cells": [
    {
      "cell_type": "markdown",
      "metadata": {
        "id": "GEkwNuW_l4_a"
      },
      "source": [
        "# Differential Privacy for ML Course - Lab #2\n",
        "\n",
        "*Master IASD, PSL - O. Cappé, January 2025*\n",
        "\n",
        "This second lab is devoted to the use of the basic DP mechanism seen in the couse."
      ]
    },
    {
      "cell_type": "code",
      "execution_count": 1,
      "metadata": {
        "id": "hiZrAuH3l5AS"
      },
      "outputs": [],
      "source": [
        "import numpy as np\n",
        "import pandas as pd\n",
        "import matplotlib.pyplot as plt\n",
        "from sklearn.datasets import fetch_openml"
      ]
    },
    {
      "cell_type": "markdown",
      "metadata": {
        "id": "bG3U2ftxl5Ai"
      },
      "source": [
        "## The Dataset\n",
        "\n",
        "For this lab, we will use the UCI Indian Liver Patient Records Data Set. The dataset consists of liver patient records collected from Andhra Pradesh, India. You can read more about the dataset [here](https://archive.ics.uci.edu/dataset/225/ilpd+indian+liver+patient+dataset)). We will begin by loading the data from [OpenML](https://www.openml.org/) using `fetch_openml` method of `sklearn`."
      ]
    },
    {
      "cell_type": "code",
      "execution_count": 2,
      "metadata": {
        "colab": {
          "base_uri": "https://localhost:8080/",
          "height": 383
        },
        "id": "XFE2ED04l5BL",
        "outputId": "11d28225-2f6e-4d46-dd9b-6e412dae36f3"
      },
      "outputs": [
        {
          "output_type": "execute_result",
          "data": {
            "text/plain": [
              "   Age  Gender  Total_Bilirubin  Direct_Bilirubin  Alkaline_Phosphotase  \\\n",
              "0   65  Female              0.7               0.1                   187   \n",
              "1   62    Male             10.9               5.5                   699   \n",
              "2   62    Male              7.3               4.1                   490   \n",
              "3   58    Male              1.0               0.4                   182   \n",
              "4   72    Male              3.9               2.0                   195   \n",
              "5   46    Male              1.8               0.7                   208   \n",
              "6   26  Female              0.9               0.2                   154   \n",
              "7   29  Female              0.9               0.3                   202   \n",
              "8   17    Male              0.9               0.3                   202   \n",
              "9   55    Male              0.7               0.2                   290   \n",
              "\n",
              "   Alamine_Aminotransferase  Aspartate_Aminotransferase  Total_Proteins  \\\n",
              "0                        16                          18             6.8   \n",
              "1                        64                         100             7.5   \n",
              "2                        60                          68             7.0   \n",
              "3                        14                          20             6.8   \n",
              "4                        27                          59             7.3   \n",
              "5                        19                          14             7.6   \n",
              "6                        16                          12             7.0   \n",
              "7                        14                          11             6.7   \n",
              "8                        22                          19             7.4   \n",
              "9                        53                          58             6.8   \n",
              "\n",
              "   Albumin Albumin_and_Globulin_Ratio  Dataset  \n",
              "0      3.3                        0.9        1  \n",
              "1      3.2                       0.74        1  \n",
              "2      3.3                       0.89        1  \n",
              "3      3.4                        1.0        1  \n",
              "4      2.4                        0.4        1  \n",
              "5      4.4                        1.3        1  \n",
              "6      3.5                        1.0        1  \n",
              "7      3.6                        1.1        1  \n",
              "8      4.1                        1.2        2  \n",
              "9      3.4                        1.0        1  "
            ],
            "text/html": [
              "\n",
              "  <div id=\"df-e916a1dc-05a1-415b-a240-3ed40cf1df7d\" class=\"colab-df-container\">\n",
              "    <div>\n",
              "<style scoped>\n",
              "    .dataframe tbody tr th:only-of-type {\n",
              "        vertical-align: middle;\n",
              "    }\n",
              "\n",
              "    .dataframe tbody tr th {\n",
              "        vertical-align: top;\n",
              "    }\n",
              "\n",
              "    .dataframe thead th {\n",
              "        text-align: right;\n",
              "    }\n",
              "</style>\n",
              "<table border=\"1\" class=\"dataframe\">\n",
              "  <thead>\n",
              "    <tr style=\"text-align: right;\">\n",
              "      <th></th>\n",
              "      <th>Age</th>\n",
              "      <th>Gender</th>\n",
              "      <th>Total_Bilirubin</th>\n",
              "      <th>Direct_Bilirubin</th>\n",
              "      <th>Alkaline_Phosphotase</th>\n",
              "      <th>Alamine_Aminotransferase</th>\n",
              "      <th>Aspartate_Aminotransferase</th>\n",
              "      <th>Total_Proteins</th>\n",
              "      <th>Albumin</th>\n",
              "      <th>Albumin_and_Globulin_Ratio</th>\n",
              "      <th>Dataset</th>\n",
              "    </tr>\n",
              "  </thead>\n",
              "  <tbody>\n",
              "    <tr>\n",
              "      <th>0</th>\n",
              "      <td>65</td>\n",
              "      <td>Female</td>\n",
              "      <td>0.7</td>\n",
              "      <td>0.1</td>\n",
              "      <td>187</td>\n",
              "      <td>16</td>\n",
              "      <td>18</td>\n",
              "      <td>6.8</td>\n",
              "      <td>3.3</td>\n",
              "      <td>0.9</td>\n",
              "      <td>1</td>\n",
              "    </tr>\n",
              "    <tr>\n",
              "      <th>1</th>\n",
              "      <td>62</td>\n",
              "      <td>Male</td>\n",
              "      <td>10.9</td>\n",
              "      <td>5.5</td>\n",
              "      <td>699</td>\n",
              "      <td>64</td>\n",
              "      <td>100</td>\n",
              "      <td>7.5</td>\n",
              "      <td>3.2</td>\n",
              "      <td>0.74</td>\n",
              "      <td>1</td>\n",
              "    </tr>\n",
              "    <tr>\n",
              "      <th>2</th>\n",
              "      <td>62</td>\n",
              "      <td>Male</td>\n",
              "      <td>7.3</td>\n",
              "      <td>4.1</td>\n",
              "      <td>490</td>\n",
              "      <td>60</td>\n",
              "      <td>68</td>\n",
              "      <td>7.0</td>\n",
              "      <td>3.3</td>\n",
              "      <td>0.89</td>\n",
              "      <td>1</td>\n",
              "    </tr>\n",
              "    <tr>\n",
              "      <th>3</th>\n",
              "      <td>58</td>\n",
              "      <td>Male</td>\n",
              "      <td>1.0</td>\n",
              "      <td>0.4</td>\n",
              "      <td>182</td>\n",
              "      <td>14</td>\n",
              "      <td>20</td>\n",
              "      <td>6.8</td>\n",
              "      <td>3.4</td>\n",
              "      <td>1.0</td>\n",
              "      <td>1</td>\n",
              "    </tr>\n",
              "    <tr>\n",
              "      <th>4</th>\n",
              "      <td>72</td>\n",
              "      <td>Male</td>\n",
              "      <td>3.9</td>\n",
              "      <td>2.0</td>\n",
              "      <td>195</td>\n",
              "      <td>27</td>\n",
              "      <td>59</td>\n",
              "      <td>7.3</td>\n",
              "      <td>2.4</td>\n",
              "      <td>0.4</td>\n",
              "      <td>1</td>\n",
              "    </tr>\n",
              "    <tr>\n",
              "      <th>5</th>\n",
              "      <td>46</td>\n",
              "      <td>Male</td>\n",
              "      <td>1.8</td>\n",
              "      <td>0.7</td>\n",
              "      <td>208</td>\n",
              "      <td>19</td>\n",
              "      <td>14</td>\n",
              "      <td>7.6</td>\n",
              "      <td>4.4</td>\n",
              "      <td>1.3</td>\n",
              "      <td>1</td>\n",
              "    </tr>\n",
              "    <tr>\n",
              "      <th>6</th>\n",
              "      <td>26</td>\n",
              "      <td>Female</td>\n",
              "      <td>0.9</td>\n",
              "      <td>0.2</td>\n",
              "      <td>154</td>\n",
              "      <td>16</td>\n",
              "      <td>12</td>\n",
              "      <td>7.0</td>\n",
              "      <td>3.5</td>\n",
              "      <td>1.0</td>\n",
              "      <td>1</td>\n",
              "    </tr>\n",
              "    <tr>\n",
              "      <th>7</th>\n",
              "      <td>29</td>\n",
              "      <td>Female</td>\n",
              "      <td>0.9</td>\n",
              "      <td>0.3</td>\n",
              "      <td>202</td>\n",
              "      <td>14</td>\n",
              "      <td>11</td>\n",
              "      <td>6.7</td>\n",
              "      <td>3.6</td>\n",
              "      <td>1.1</td>\n",
              "      <td>1</td>\n",
              "    </tr>\n",
              "    <tr>\n",
              "      <th>8</th>\n",
              "      <td>17</td>\n",
              "      <td>Male</td>\n",
              "      <td>0.9</td>\n",
              "      <td>0.3</td>\n",
              "      <td>202</td>\n",
              "      <td>22</td>\n",
              "      <td>19</td>\n",
              "      <td>7.4</td>\n",
              "      <td>4.1</td>\n",
              "      <td>1.2</td>\n",
              "      <td>2</td>\n",
              "    </tr>\n",
              "    <tr>\n",
              "      <th>9</th>\n",
              "      <td>55</td>\n",
              "      <td>Male</td>\n",
              "      <td>0.7</td>\n",
              "      <td>0.2</td>\n",
              "      <td>290</td>\n",
              "      <td>53</td>\n",
              "      <td>58</td>\n",
              "      <td>6.8</td>\n",
              "      <td>3.4</td>\n",
              "      <td>1.0</td>\n",
              "      <td>1</td>\n",
              "    </tr>\n",
              "  </tbody>\n",
              "</table>\n",
              "</div>\n",
              "    <div class=\"colab-df-buttons\">\n",
              "\n",
              "  <div class=\"colab-df-container\">\n",
              "    <button class=\"colab-df-convert\" onclick=\"convertToInteractive('df-e916a1dc-05a1-415b-a240-3ed40cf1df7d')\"\n",
              "            title=\"Convert this dataframe to an interactive table.\"\n",
              "            style=\"display:none;\">\n",
              "\n",
              "  <svg xmlns=\"http://www.w3.org/2000/svg\" height=\"24px\" viewBox=\"0 -960 960 960\">\n",
              "    <path d=\"M120-120v-720h720v720H120Zm60-500h600v-160H180v160Zm220 220h160v-160H400v160Zm0 220h160v-160H400v160ZM180-400h160v-160H180v160Zm440 0h160v-160H620v160ZM180-180h160v-160H180v160Zm440 0h160v-160H620v160Z\"/>\n",
              "  </svg>\n",
              "    </button>\n",
              "\n",
              "  <style>\n",
              "    .colab-df-container {\n",
              "      display:flex;\n",
              "      gap: 12px;\n",
              "    }\n",
              "\n",
              "    .colab-df-convert {\n",
              "      background-color: #E8F0FE;\n",
              "      border: none;\n",
              "      border-radius: 50%;\n",
              "      cursor: pointer;\n",
              "      display: none;\n",
              "      fill: #1967D2;\n",
              "      height: 32px;\n",
              "      padding: 0 0 0 0;\n",
              "      width: 32px;\n",
              "    }\n",
              "\n",
              "    .colab-df-convert:hover {\n",
              "      background-color: #E2EBFA;\n",
              "      box-shadow: 0px 1px 2px rgba(60, 64, 67, 0.3), 0px 1px 3px 1px rgba(60, 64, 67, 0.15);\n",
              "      fill: #174EA6;\n",
              "    }\n",
              "\n",
              "    .colab-df-buttons div {\n",
              "      margin-bottom: 4px;\n",
              "    }\n",
              "\n",
              "    [theme=dark] .colab-df-convert {\n",
              "      background-color: #3B4455;\n",
              "      fill: #D2E3FC;\n",
              "    }\n",
              "\n",
              "    [theme=dark] .colab-df-convert:hover {\n",
              "      background-color: #434B5C;\n",
              "      box-shadow: 0px 1px 3px 1px rgba(0, 0, 0, 0.15);\n",
              "      filter: drop-shadow(0px 1px 2px rgba(0, 0, 0, 0.3));\n",
              "      fill: #FFFFFF;\n",
              "    }\n",
              "  </style>\n",
              "\n",
              "    <script>\n",
              "      const buttonEl =\n",
              "        document.querySelector('#df-e916a1dc-05a1-415b-a240-3ed40cf1df7d button.colab-df-convert');\n",
              "      buttonEl.style.display =\n",
              "        google.colab.kernel.accessAllowed ? 'block' : 'none';\n",
              "\n",
              "      async function convertToInteractive(key) {\n",
              "        const element = document.querySelector('#df-e916a1dc-05a1-415b-a240-3ed40cf1df7d');\n",
              "        const dataTable =\n",
              "          await google.colab.kernel.invokeFunction('convertToInteractive',\n",
              "                                                    [key], {});\n",
              "        if (!dataTable) return;\n",
              "\n",
              "        const docLinkHtml = 'Like what you see? Visit the ' +\n",
              "          '<a target=\"_blank\" href=https://colab.research.google.com/notebooks/data_table.ipynb>data table notebook</a>'\n",
              "          + ' to learn more about interactive tables.';\n",
              "        element.innerHTML = '';\n",
              "        dataTable['output_type'] = 'display_data';\n",
              "        await google.colab.output.renderOutput(dataTable, element);\n",
              "        const docLink = document.createElement('div');\n",
              "        docLink.innerHTML = docLinkHtml;\n",
              "        element.appendChild(docLink);\n",
              "      }\n",
              "    </script>\n",
              "  </div>\n",
              "\n",
              "\n",
              "<div id=\"df-2d5bf79e-63c0-440f-bb4b-065cf5d62d49\">\n",
              "  <button class=\"colab-df-quickchart\" onclick=\"quickchart('df-2d5bf79e-63c0-440f-bb4b-065cf5d62d49')\"\n",
              "            title=\"Suggest charts\"\n",
              "            style=\"display:none;\">\n",
              "\n",
              "<svg xmlns=\"http://www.w3.org/2000/svg\" height=\"24px\"viewBox=\"0 0 24 24\"\n",
              "     width=\"24px\">\n",
              "    <g>\n",
              "        <path d=\"M19 3H5c-1.1 0-2 .9-2 2v14c0 1.1.9 2 2 2h14c1.1 0 2-.9 2-2V5c0-1.1-.9-2-2-2zM9 17H7v-7h2v7zm4 0h-2V7h2v10zm4 0h-2v-4h2v4z\"/>\n",
              "    </g>\n",
              "</svg>\n",
              "  </button>\n",
              "\n",
              "<style>\n",
              "  .colab-df-quickchart {\n",
              "      --bg-color: #E8F0FE;\n",
              "      --fill-color: #1967D2;\n",
              "      --hover-bg-color: #E2EBFA;\n",
              "      --hover-fill-color: #174EA6;\n",
              "      --disabled-fill-color: #AAA;\n",
              "      --disabled-bg-color: #DDD;\n",
              "  }\n",
              "\n",
              "  [theme=dark] .colab-df-quickchart {\n",
              "      --bg-color: #3B4455;\n",
              "      --fill-color: #D2E3FC;\n",
              "      --hover-bg-color: #434B5C;\n",
              "      --hover-fill-color: #FFFFFF;\n",
              "      --disabled-bg-color: #3B4455;\n",
              "      --disabled-fill-color: #666;\n",
              "  }\n",
              "\n",
              "  .colab-df-quickchart {\n",
              "    background-color: var(--bg-color);\n",
              "    border: none;\n",
              "    border-radius: 50%;\n",
              "    cursor: pointer;\n",
              "    display: none;\n",
              "    fill: var(--fill-color);\n",
              "    height: 32px;\n",
              "    padding: 0;\n",
              "    width: 32px;\n",
              "  }\n",
              "\n",
              "  .colab-df-quickchart:hover {\n",
              "    background-color: var(--hover-bg-color);\n",
              "    box-shadow: 0 1px 2px rgba(60, 64, 67, 0.3), 0 1px 3px 1px rgba(60, 64, 67, 0.15);\n",
              "    fill: var(--button-hover-fill-color);\n",
              "  }\n",
              "\n",
              "  .colab-df-quickchart-complete:disabled,\n",
              "  .colab-df-quickchart-complete:disabled:hover {\n",
              "    background-color: var(--disabled-bg-color);\n",
              "    fill: var(--disabled-fill-color);\n",
              "    box-shadow: none;\n",
              "  }\n",
              "\n",
              "  .colab-df-spinner {\n",
              "    border: 2px solid var(--fill-color);\n",
              "    border-color: transparent;\n",
              "    border-bottom-color: var(--fill-color);\n",
              "    animation:\n",
              "      spin 1s steps(1) infinite;\n",
              "  }\n",
              "\n",
              "  @keyframes spin {\n",
              "    0% {\n",
              "      border-color: transparent;\n",
              "      border-bottom-color: var(--fill-color);\n",
              "      border-left-color: var(--fill-color);\n",
              "    }\n",
              "    20% {\n",
              "      border-color: transparent;\n",
              "      border-left-color: var(--fill-color);\n",
              "      border-top-color: var(--fill-color);\n",
              "    }\n",
              "    30% {\n",
              "      border-color: transparent;\n",
              "      border-left-color: var(--fill-color);\n",
              "      border-top-color: var(--fill-color);\n",
              "      border-right-color: var(--fill-color);\n",
              "    }\n",
              "    40% {\n",
              "      border-color: transparent;\n",
              "      border-right-color: var(--fill-color);\n",
              "      border-top-color: var(--fill-color);\n",
              "    }\n",
              "    60% {\n",
              "      border-color: transparent;\n",
              "      border-right-color: var(--fill-color);\n",
              "    }\n",
              "    80% {\n",
              "      border-color: transparent;\n",
              "      border-right-color: var(--fill-color);\n",
              "      border-bottom-color: var(--fill-color);\n",
              "    }\n",
              "    90% {\n",
              "      border-color: transparent;\n",
              "      border-bottom-color: var(--fill-color);\n",
              "    }\n",
              "  }\n",
              "</style>\n",
              "\n",
              "  <script>\n",
              "    async function quickchart(key) {\n",
              "      const quickchartButtonEl =\n",
              "        document.querySelector('#' + key + ' button');\n",
              "      quickchartButtonEl.disabled = true;  // To prevent multiple clicks.\n",
              "      quickchartButtonEl.classList.add('colab-df-spinner');\n",
              "      try {\n",
              "        const charts = await google.colab.kernel.invokeFunction(\n",
              "            'suggestCharts', [key], {});\n",
              "      } catch (error) {\n",
              "        console.error('Error during call to suggestCharts:', error);\n",
              "      }\n",
              "      quickchartButtonEl.classList.remove('colab-df-spinner');\n",
              "      quickchartButtonEl.classList.add('colab-df-quickchart-complete');\n",
              "    }\n",
              "    (() => {\n",
              "      let quickchartButtonEl =\n",
              "        document.querySelector('#df-2d5bf79e-63c0-440f-bb4b-065cf5d62d49 button');\n",
              "      quickchartButtonEl.style.display =\n",
              "        google.colab.kernel.accessAllowed ? 'block' : 'none';\n",
              "    })();\n",
              "  </script>\n",
              "</div>\n",
              "\n",
              "    </div>\n",
              "  </div>\n"
            ],
            "application/vnd.google.colaboratory.intrinsic+json": {
              "type": "dataframe",
              "variable_name": "data",
              "summary": "{\n  \"name\": \"data\",\n  \"rows\": 583,\n  \"fields\": [\n    {\n      \"column\": \"Age\",\n      \"properties\": {\n        \"dtype\": \"number\",\n        \"std\": 16,\n        \"min\": 4,\n        \"max\": 90,\n        \"num_unique_values\": 72,\n        \"samples\": [\n          46,\n          23,\n          63\n        ],\n        \"semantic_type\": \"\",\n        \"description\": \"\"\n      }\n    },\n    {\n      \"column\": \"Gender\",\n      \"properties\": {\n        \"dtype\": \"category\",\n        \"num_unique_values\": 2,\n        \"samples\": [\n          \"Male\",\n          \"Female\"\n        ],\n        \"semantic_type\": \"\",\n        \"description\": \"\"\n      }\n    },\n    {\n      \"column\": \"Total_Bilirubin\",\n      \"properties\": {\n        \"dtype\": \"number\",\n        \"std\": 6.209521726180145,\n        \"min\": 0.4,\n        \"max\": 75.0,\n        \"num_unique_values\": 113,\n        \"samples\": [\n          4.9,\n          3.9\n        ],\n        \"semantic_type\": \"\",\n        \"description\": \"\"\n      }\n    },\n    {\n      \"column\": \"Direct_Bilirubin\",\n      \"properties\": {\n        \"dtype\": \"number\",\n        \"std\": 2.8084976176589636,\n        \"min\": 0.1,\n        \"max\": 19.7,\n        \"num_unique_values\": 80,\n        \"samples\": [\n          6.2,\n          0.1\n        ],\n        \"semantic_type\": \"\",\n        \"description\": \"\"\n      }\n    },\n    {\n      \"column\": \"Alkaline_Phosphotase\",\n      \"properties\": {\n        \"dtype\": \"number\",\n        \"std\": 242,\n        \"min\": 63,\n        \"max\": 2110,\n        \"num_unique_values\": 263,\n        \"samples\": [\n          386,\n          209\n        ],\n        \"semantic_type\": \"\",\n        \"description\": \"\"\n      }\n    },\n    {\n      \"column\": \"Alamine_Aminotransferase\",\n      \"properties\": {\n        \"dtype\": \"number\",\n        \"std\": 182,\n        \"min\": 10,\n        \"max\": 2000,\n        \"num_unique_values\": 152,\n        \"samples\": [\n          2000,\n          321\n        ],\n        \"semantic_type\": \"\",\n        \"description\": \"\"\n      }\n    },\n    {\n      \"column\": \"Aspartate_Aminotransferase\",\n      \"properties\": {\n        \"dtype\": \"number\",\n        \"std\": 288,\n        \"min\": 10,\n        \"max\": 4929,\n        \"num_unique_values\": 177,\n        \"samples\": [\n          66,\n          16\n        ],\n        \"semantic_type\": \"\",\n        \"description\": \"\"\n      }\n    },\n    {\n      \"column\": \"Total_Proteins\",\n      \"properties\": {\n        \"dtype\": \"number\",\n        \"std\": 1.0854514840234664,\n        \"min\": 2.7,\n        \"max\": 9.6,\n        \"num_unique_values\": 58,\n        \"samples\": [\n          6.8,\n          6.7\n        ],\n        \"semantic_type\": \"\",\n        \"description\": \"\"\n      }\n    },\n    {\n      \"column\": \"Albumin\",\n      \"properties\": {\n        \"dtype\": \"number\",\n        \"std\": 0.795518805964027,\n        \"min\": 0.9,\n        \"max\": 5.5,\n        \"num_unique_values\": 40,\n        \"samples\": [\n          2.0,\n          1.9\n        ],\n        \"semantic_type\": \"\",\n        \"description\": \"\"\n      }\n    },\n    {\n      \"column\": \"Albumin_and_Globulin_Ratio\",\n      \"properties\": {\n        \"dtype\": \"category\",\n        \"num_unique_values\": 70,\n        \"samples\": [\n          \"1.6\",\n          \"0.9\"\n        ],\n        \"semantic_type\": \"\",\n        \"description\": \"\"\n      }\n    },\n    {\n      \"column\": \"Dataset\",\n      \"properties\": {\n        \"dtype\": \"number\",\n        \"std\": 0,\n        \"min\": 1,\n        \"max\": 2,\n        \"num_unique_values\": 2,\n        \"samples\": [\n          2,\n          1\n        ],\n        \"semantic_type\": \"\",\n        \"description\": \"\"\n      }\n    }\n  ]\n}"
            }
          },
          "metadata": {},
          "execution_count": 2
        }
      ],
      "source": [
        "openml = False\n",
        "if (openml):\n",
        "    data = fetch_openml(name='Indian-Liver-Patient-Records', version=2, as_frame=True).frame    # Load dataset from OpenML as a Pandas data rrame\n",
        "else:\n",
        "    # Backup solution, reading from a local CSV file\n",
        "    data = pd.read_csv('/content/lab2_indian-liver.csv')\n",
        "data.head(10)     # Print the first 10 rows of the dataset"
      ]
    },
    {
      "cell_type": "markdown",
      "metadata": {
        "id": "7wXZlE7ul5BO"
      },
      "source": [
        "## Counting Query\n",
        "\n",
        "This is a preparatory question in which we will go through the implementation of the Laplace mechanism for a simple counting query. The query should return the number of females in the dataset. You will use the `Gender` attribute in the dataset for this task. The code and plots done for this question will serve as the model for you for answering the rest of the questions."
      ]
    },
    {
      "cell_type": "markdown",
      "metadata": {
        "id": "Vm8QjS4Vl5Bn"
      },
      "source": [
        "We will use the variable `count` to store the non-private count of females in the dataset."
      ]
    },
    {
      "cell_type": "code",
      "execution_count": 3,
      "metadata": {
        "colab": {
          "base_uri": "https://localhost:8080/"
        },
        "id": "x0uGIyVgl5Bq",
        "outputId": "ffc05f49-038f-4b2b-ac25-65c4470910bd"
      },
      "outputs": [
        {
          "output_type": "stream",
          "name": "stdout",
          "text": [
            "142\n"
          ]
        }
      ],
      "source": [
        "count = sum(data['Gender'] == 'Female')\n",
        "print(count)"
      ]
    },
    {
      "cell_type": "markdown",
      "metadata": {
        "id": "KF71OExgl5B6"
      },
      "source": [
        "In the following code block, the function `countLap` implements the Laplace mechanism to return the count of the number of females. **Why is this $\\epsilon$-DP?**"
      ]
    },
    {
      "cell_type": "markdown",
      "source": [
        "This is ϵ-DP because noise drawn from the Laplace distribution is added to the data to mask individual contribution."
      ],
      "metadata": {
        "id": "fJZ3v7mVRqle"
      }
    },
    {
      "cell_type": "code",
      "execution_count": 4,
      "metadata": {
        "id": "OJgOKqMwl5B8"
      },
      "outputs": [],
      "source": [
        "def countLap(count, eps):\n",
        "    \"\"\"\n",
        "    Adds Laplace noise to a given count for differential privacy.\n",
        "\n",
        "    Parameters:\n",
        "    count (int or float): The original count.\n",
        "    eps (float): The privacy parameter epsilon.\n",
        "\n",
        "    Returns:\n",
        "    float: The count with added Laplace noise.\n",
        "    \"\"\"\n",
        "    return count + np.random.laplace(0, 1/eps)"
      ]
    },
    {
      "cell_type": "markdown",
      "metadata": {
        "id": "g64UpCmIl5B9"
      },
      "source": [
        "We can visualize the output of the `countLap` method by running the method several times and plotting the histogram of the returned counts."
      ]
    },
    {
      "cell_type": "code",
      "execution_count": 5,
      "metadata": {
        "colab": {
          "base_uri": "https://localhost:8080/",
          "height": 430
        },
        "id": "LYycOyFjl5B-",
        "outputId": "af10a5e5-ae28-440c-a3ed-790e7868c8c4"
      },
      "outputs": [
        {
          "output_type": "display_data",
          "data": {
            "text/plain": [
              "<Figure size 640x480 with 1 Axes>"
            ],
            "image/png": "[encoded data removed]"
          },
          "metadata": {}
        }
      ],
      "source": [
        "eps = 0.5           # The epsilon value for epsilon-DP\n",
        "num_iter = 200     # Number of Monte carlo runs of the countLap mechanism\n",
        "counts = [countLap(count, eps) for i in range(num_iter)]  # Counts is a list of all the noisy counts returned by the countLap mechanism\n",
        "plt.hist(counts)    # Plot the histogram of counts\n",
        "plt.show()"
      ]
    },
    {
      "cell_type": "markdown",
      "metadata": {
        "id": "0oWNPfFkl5CG"
      },
      "source": [
        "In the following code block, we will illustrate more systematically the accuracy of the `countLap` method for a range of $\\epsilon$'s."
      ]
    },
    {
      "cell_type": "code",
      "execution_count": 6,
      "metadata": {
        "colab": {
          "base_uri": "https://localhost:8080/",
          "height": 449
        },
        "id": "vUeMyrtfl5CG",
        "outputId": "d2df8090-0909-421c-dc48-37461272e090"
      },
      "outputs": [
        {
          "output_type": "display_data",
          "data": {
            "text/plain": [
              "<Figure size 640x480 with 1 Axes>"
            ],
            "image/png": "[encoded data removed]"
          },
          "metadata": {}
        }
      ],
      "source": [
        "def accuracy_plot(mechanism, data, value):\n",
        "    \"\"\"\n",
        "    Plots the accuracy of a given differential privacy mechanism over a range of epsilon values.\n",
        "    Parameters:\n",
        "    mechanism (function): The differential privacy mechanism to be evaluated. It should take two arguments: data and epsilon.\n",
        "    value (float): The true value that is protected by the mechanism\n",
        "    \"\"\"\n",
        "    num_iter = 100                                  # Number of Monte Carlo runs for each epsilon\n",
        "    eps_arr = np.linspace(0.3, 3.0, num=20)         # Array of epsilons\n",
        "    noisy_values_median = np.zeros_like(eps_arr)    # Array of median noisy values returned by the mechanism\n",
        "    noisy_values_q1 = np.zeros_like(eps_arr)        # Array to store the first quartile of noisy values\n",
        "    noisy_values_q3 = np.zeros_like(eps_arr)        # Array to store the third quartile of noisy values\n",
        "\n",
        "    for i, eps in enumerate(eps_arr):\n",
        "        values = [mechanism(data, eps) for i in range(num_iter)]\n",
        "        noisy_values_median[i] = np.median(values)\n",
        "        noisy_values_q1[i] = np.percentile(values, 25)\n",
        "        noisy_values_q3[i] = np.percentile(values, 75)\n",
        "\n",
        "    fig = plt.figure()\n",
        "    plt.plot(eps_arr, noisy_values_median, label='Mechanism')\n",
        "    plt.plot(eps_arr, value*np.ones_like(eps_arr), label='Exact')\n",
        "    plt.fill_between(eps_arr, noisy_values_q1, noisy_values_q3, alpha = 0.2)\n",
        "    plt.legend(loc=\"lower right\")\n",
        "    plt.xlabel(\"$\\epsilon$\")\n",
        "    plt.show()\n",
        "\n",
        "accuracy_plot(countLap, count, count)"
      ]
    },
    {
      "cell_type": "markdown",
      "metadata": {
        "id": "Q99XCsoGl5CH"
      },
      "source": [
        "#### Observations\n",
        "\n",
        "- Notice that the smaller $\\epsilon$ is, the greater is the \"spread\" or the standard deviation of the noisy counts of `countLap`\n",
        "- Notice that the mean of the noisy counts returned by `countLap` roughly equals the Exact count. This is because the Laplace noise is mean zero. In other words, the output of `countLap` is an unbiased estimate of `count`."
      ]
    },
    {
      "cell_type": "markdown",
      "metadata": {
        "id": "3Of4v-Iel5CR"
      },
      "source": [
        "# L1.1 Differentially Private Maximum\n",
        "\n",
        "In this question and the following, we will consider the age feature for females. We know from the data documentation that this feature has been truncated at 90."
      ]
    },
    {
      "cell_type": "code",
      "execution_count": 7,
      "metadata": {
        "colab": {
          "base_uri": "https://localhost:8080/",
          "height": 430
        },
        "id": "mb6mNRmMl5CR",
        "outputId": "b5f9c2ca-ae0a-4b5f-cea3-6ff4f0c23ea9"
      },
      "outputs": [
        {
          "output_type": "display_data",
          "data": {
            "text/plain": [
              "<Figure size 640x480 with 1 Axes>"
            ],
            "image/png": "[encoded data removed]"
          },
          "metadata": {}
        }
      ],
      "source": [
        "# Return an array with the ages of females\n",
        "ages = np.array(data[data['Gender'] == 'Female']['Age'])\n",
        "plt.hist(ages)\n",
        "plt.show()"
      ]
    },
    {
      "cell_type": "markdown",
      "metadata": {
        "id": "X05cit19l5CT"
      },
      "source": [
        "**Implement the Laplace mechanism for the maximum as a function and use the <code>accuracy_plot</code> function above to plot its accuracy. What do you think of the result and why is this happening?**"
      ]
    },
    {
      "cell_type": "markdown",
      "source": [
        "Return maximum edge what will the Laplace mechanism will look like. We want to add laplace noise, what is its value. The max edge has to be less than 90."
      ],
      "metadata": {
        "id": "D-4AwZhQqHK9"
      }
    },
    {
      "cell_type": "code",
      "execution_count": null,
      "metadata": {
        "colab": {
          "base_uri": "https://localhost:8080/",
          "height": 449
        },
        "id": "asuRCr29l5CU",
        "outputId": "c0edb061-21c2-4d1b-e934-c3469aa17d9a"
      },
      "outputs": [
        {
          "output_type": "display_data",
          "data": {
            "text/plain": [
              "<Figure size 640x480 with 1 Axes>"
            ],
            "image/png": "[encoded data removed]"
          },
          "metadata": {}
        }
      ],
      "source": [
        "def maxLap(ages, eps):\n",
        "    \"\"\"\n",
        "    Computes the differentially private maximum of an array of ages using the Laplace mechanism.\n",
        "\n",
        "    Parameters:\n",
        "    ages (numpy.ndarray): An array of ages.\n",
        "    eps (float): The privacy parameter epsilon, which controls the amount of noise added.\n",
        "\n",
        "    Returns:\n",
        "    float: The differentially private maximum of the ages array.\n",
        "    \"\"\"\n",
        "    # TODO: Your code here\n",
        "    #sensitivity of the max fn is 90  p.35 L2, scale 90/eps\n",
        "\n",
        "    dp_max = np.max(ages) + np.random.laplace(0, 90/(eps))\n",
        "\n",
        "    return dp_max\n",
        "\n",
        "\n",
        "\n",
        "accuracy_plot(maxLap, ages, np.max(ages))"
      ]
    },
    {
      "cell_type": "markdown",
      "source": [
        "This introduces a large amount of noise which leads to a widely inacurate results, so while it protects privacy less accurate than the countLap for example. We can see that the variance is also more important."
      ],
      "metadata": {
        "id": "i5P7VHffmIzd"
      }
    },
    {
      "cell_type": "markdown",
      "metadata": {
        "id": "FCzqAfiol5CU"
      },
      "source": [
        "Note that we could \"improve\" the result somewhat by truncating the output value between 0 and 90 for consistency (why is it possible to do so ?). trucate more in this intervale\n",
        "\n",
        "We can also be less pessimistic about the range of values where we expect to find the maximum. For instance, show that the following mechanism is still $\\epsilon$-DP."
      ]
    },
    {
      "cell_type": "code",
      "execution_count": null,
      "metadata": {
        "colab": {
          "base_uri": "https://localhost:8080/",
          "height": 455
        },
        "id": "KcVo2kPEl5CV",
        "outputId": "e1d2c337-555d-449f-89ef-d26452881622"
      },
      "outputs": [
        {
          "output_type": "display_data",
          "data": {
            "text/plain": [
              "<Figure size 640x480 with 1 Axes>"
            ],
            "image/png": "[encoded data removed]"
          },
          "metadata": {}
        }
      ],
      "source": [
        "def maxLap2(ages, eps):\n",
        "    # Another mechanism to return the differentially private uncensored max age\n",
        "    guess = 80\n",
        "    split = 1/4\n",
        "    n = sum(ages >= guess) + np.random.laplace(0, 1/(split*eps)) # counting query ages >90, split to split the privacy budget for n and dpmax\n",
        "    if (n > 1):\n",
        "        dpmax = max(guess, np.max(ages)) + np.random.laplace(0, (90-guess)/((1-split)*eps))#reduced sensitivity\n",
        "    else:\n",
        "        dpmax = np.max(ages) + np.random.laplace(0, 90/((1-split)*eps))\n",
        "    return dpmax\n",
        "\n",
        "accuracy_plot(maxLap2, ages, np.max(ages))\n",
        "\n",
        "# 85 max age cant use it because gives information when reading the code output is better because smaller sensitivity, n should be epsilone DP"
      ]
    },
    {
      "cell_type": "markdown",
      "metadata": {
        "id": "btWj9pxll5CY"
      },
      "source": [
        "## L1.2 Differentially Private Arg Max\n",
        "\n",
        "In this question, we will implement two mechanisms for reporting the id of the maximum of a feature. Specifically, we will implement algorithms that report the id of the most represented age categories among the females."
      ]
    },
    {
      "cell_type": "code",
      "execution_count": 8,
      "metadata": {
        "colab": {
          "base_uri": "https://localhost:8080/",
          "height": 430
        },
        "id": "2wMtDIXEl5Ca",
        "outputId": "4e6def6f-e017-4c42-ecbc-98117a3b6712"
      },
      "outputs": [
        {
          "output_type": "display_data",
          "data": {
            "text/plain": [
              "<Figure size 640x480 with 1 Axes>"
            ],
            "image/png": "[encoded data removed]"
          },
          "metadata": {}
        }
      ],
      "source": [
        "age_counts = np.array([np.sum(ages == i) for i in range(91)])\n",
        "plt.bar(range(91), age_counts)\n",
        "plt.show()"
      ]
    },
    {
      "cell_type": "markdown",
      "metadata": {
        "id": "aZ9NpYANl5Cc"
      },
      "source": [
        "### L1.2.1 Noisy Max with Laplace Mechanism"
      ]
    },
    {
      "cell_type": "markdown",
      "metadata": {
        "id": "-HfrNcZkl5Cj"
      },
      "source": [
        "**In the following code block, implement the `reportNoisyArgMax` function that implements the mechanism discussed in class that adds i.i.d. Laplace noise to the entries of the array and reports the index of the maximum in the noisy array.**"
      ]
    },
    {
      "cell_type": "code",
      "execution_count": 9,
      "metadata": {
        "id": "67n8xTe8l5Ck"
      },
      "outputs": [],
      "source": [
        "# Implement your mechanism here\n",
        "\n",
        "def reportNoisyArgMax(x, eps):\n",
        "    \"\"\"\n",
        "    Computes the noisy argmax of an array using Laplace noise.\n",
        "    This function adds Laplace noise to each element of the input array `x`\n",
        "    and returns the index of the maximum value in the noisy array.\n",
        "    Parameters:\n",
        "    x (array-like): The input array for which the noisy argmax is to be computed.\n",
        "    eps (float): The privacy parameter epsilon.\n",
        "    Returns:\n",
        "    int: The index of the maximum value in the noisy array.\n",
        "    \"\"\"\n",
        "\n",
        "    noisy_x = x + np.random.laplace(0, 1/eps, len(x)) # the sensitivity is one because it is a count-base query\n",
        "\n",
        "    return np.argmax(noisy_x)\n"
      ]
    },
    {
      "cell_type": "markdown",
      "metadata": {
        "id": "go6wXMtJl5Ck"
      },
      "source": [
        "We can visualize the accuracy of the output of the `reportNoisyArgMax` method by running the mechanism several times and plotting the histogram of the ages corresponding to the returned indices."
      ]
    },
    {
      "cell_type": "code",
      "execution_count": 10,
      "metadata": {
        "colab": {
          "base_uri": "https://localhost:8080/",
          "height": 377
        },
        "id": "KaNUUNrol5Cl",
        "outputId": "eec5b512-5f71-4e64-dba5-680a83b3ade8"
      },
      "outputs": [
        {
          "output_type": "display_data",
          "data": {
            "text/plain": [
              "<Figure size 1500x500 with 3 Axes>"
            ],
            "image/png": "[encoded data removed]"
          },
          "metadata": {}
        }
      ],
      "source": [
        "def accuracy_plot_for_argmax(mechanism, age_counts):\n",
        "    eps_arr = np.array([0.3, 1, 3])\n",
        "    num_iter = 200\n",
        "\n",
        "    fig, axs = plt.subplots(1, 3, figsize=(15, 5))\n",
        "    for i, eps in enumerate(eps_arr):\n",
        "        age_ids = [mechanism(age_counts, eps) for _ in range(num_iter)]\n",
        "        axs[i].hist(age_ids)\n",
        "        axs[i].set_xlabel('Ages')\n",
        "        axs[i].set_ylabel('Frequency')\n",
        "        axs[i].set_title('$\\epsilon = {}$'.format(eps))\n",
        "\n",
        "    plt.tight_layout()\n",
        "    plt.show()\n",
        "\n",
        "accuracy_plot_for_argmax(reportNoisyArgMax, age_counts)"
      ]
    },
    {
      "cell_type": "markdown",
      "source": [
        "As we can see the higher epsilon is the less privacy we have."
      ],
      "metadata": {
        "id": "kvUiljQ6BEFT"
      }
    },
    {
      "cell_type": "markdown",
      "metadata": {
        "id": "MdpzRU2Nl5Cl"
      },
      "source": [
        "### L1.2.2 Noisy Max with the Exponential Mechanism\n",
        "\n",
        "We now consider addressing the same task using the Exponential mechanism. **What is the natural utility function $u(x,y)$ and what is its sensitivity?**\n",
        "\n",
        "**Implement the exponential mechanism with the chosen utility function and illustrate the accuracy of the mechanism using the same plots as before.**"
      ]
    },
    {
      "cell_type": "code",
      "source": [
        "def argMaxExp(x,eps):\n",
        "\n",
        "    # Compute probability distribution\n",
        "    utility = age_counts\n",
        "    probabilities = np.exp((eps * utility) / (2))\n",
        "    probabilities /= np.sum(probabilities)\n",
        "\n",
        "    # Sample an index based on probabilities\n",
        "    return np.random.choice(len(utility), p=probabilities)\n"
      ],
      "metadata": {
        "id": "uWGlWQQGcYUM"
      },
      "execution_count": 15,
      "outputs": []
    },
    {
      "cell_type": "code",
      "source": [
        "accuracy_plot_for_argmax(argMaxExp, age_counts)"
      ],
      "metadata": {
        "colab": {
          "base_uri": "https://localhost:8080/",
          "height": 377
        },
        "id": "2q1BDkw9cfDi",
        "outputId": "ce8fbf54-62bb-4a25-c7c6-c106fd7cc882"
      },
      "execution_count": 16,
      "outputs": [
        {
          "output_type": "display_data",
          "data": {
            "text/plain": [
              "<Figure size 1500x500 with 3 Axes>"
            ],
            "image/png": "[encoded data removed]"
          },
          "metadata": {}
        }
      ]
    }
  ],
  "metadata": {
    "kernelspec": {
      "display_name": "Python 3",
      "language": "python",
      "name": "python3"
    },
    "language_info": {
      "codemirror_mode": {
        "name": "ipython",
        "version": 3
      },
      "file_extension": ".py",
      "mimetype": "text/x-python",
      "name": "python",
      "nbconvert_exporter": "python",
      "pygments_lexer": "ipython3",
      "version": "3.11.2"
    },
    "orig_nbformat": 4,
    "colab": {
      "provenance": []
    }
  },
  "nbformat": 4,
  "nbformat_minor": 0
}